{
  "cells": [
    {
      "cell_type": "markdown",
      "metadata": {
        "id": "view-in-github",
        "colab_type": "text"
      },
      "source": [
        "<a href=\"https://colab.research.google.com/github/ArquimedesG/Machine_Learning_Colabs/blob/main/ML_S2_Linear_Regression_09JL23_.ipynb\" target=\"_parent\"><img src=\"https://colab.research.google.com/assets/colab-badge.svg\" alt=\"Open In Colab\"/></a>"
      ]
    },
    {
      "cell_type": "markdown",
      "source": [
        "##  Scikit-learn Package\n",
        "\n",
        "Scikit-learn (Sklearn) is Python's most useful and robust machine learning package.\n",
        "\n",
        "It offers a set of fast tools for machine learning and statistical modeling, such as classification, regression, clustering, and dimensionality reduction, via a Python interface.\n",
        "\n",
        "This mostly Python-written package is based on NumPy, SciPy, and Matplotlib."
      ],
      "metadata": {
        "id": "VM7VRw8DiP8O"
      }
    },
    {
      "cell_type": "markdown",
      "source": [
        "### Linear Models on on scikit-learn\n",
        "\n",
        "The following are a set of methods intended for regression in which the target value is expected to be a linear combination of the features.\n",
        "\n",
        "In mathematical notation, if ![image.png](data:image/png;base64,iVBORw0KGgoAAAANSUhEUgAAAA4AAAAXCAYAAAA7kX6CAAAAAXNSR0IArs4c6QAAAARnQU1BAACxjwv8YQUAAAAJcEhZcwAADsMAAA7DAcdvqGQAAAHQSURBVDhP1ZQ/SBtxFMe/6ubgJjgYJMSAF0WDIKJD6yIiBEWjggGHKJK4dnBVEDq0FBJwUxAiJygWGnBpBYUMmiVG0Bj8c2BixMHioCAJJLy+391PL8YslkLxs7x738e7e/+4CmLwF1RK+2b+cWLqOyadfqympF+G14kiaWwNjdM2bAz6sXyWk4ESxHCeyZ7Q4qiP1rWs4V9ukncgQDHpFvMfp3q18xUzXj9GBj2Y2/4tVSCXXGE9iP17KTyhF6yp5J5SKZ3XKDSkkHVik9J6IEu7c+y3faFYXhee0b94EY2g3euGJRNF+BiwdDpgEYFCEns/2H5U0FglhCLkC3SOF3vJah+mpVMpcCUuu0Ie9UoKJuZwCocIL2WAFhd6bIZ0G48ggXp0t9YbQhFm4q2Gi0e2HQ5ZVg6JowjbD2hXhP8SM7G6BjXC5nUPuN5CSPTX70RzaX/MiwMQK/kcjAO2Wi4gioPkA7rmf0H1vC7VHM6dRuc38pk5Dw3zoMYppEmhBCPxhm+Sp2e1876En+eb7VGoycf7LNnfE0ZiPEBNdie5AnFeOVFa9fHS+dgv9WhZjB4LGfxcmMW3lA19DfdIPDox/cmLrjrZTxnezT8H+AOWW4PifdtCagAAAABJRU5ErkJggg==) is the predicted value.\n",
        "\n",
        "![image.png](data:image/png;base64,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)\n",
        "\n",
        "\n",
        "Across the module, we designate the vector\n",
        "![image.png](data:image/png;base64,iVBORw0KGgoAAAANSUhEUgAAAIkAAAAZCAYAAAAFQg2KAAAAAXNSR0IArs4c6QAAAARnQU1BAACxjwv8YQUAAAAJcEhZcwAADsMAAA7DAcdvqGQAAAU9SURBVGhD7Zp/SFtXFMe/mwPHQEfBlBXNXK0WonZaGdMyllVGcFJLW1MUMzYay9CqNMqYWzdXy5zd/AVxOGRYFHQKCdpNFGYVZg31xx/alK0atqoME6kY2fDJxIByd5/vqolGUzXRZLwPxMv53pd778s775xz3/M5QoGIyA48z1rfwGrC4OM52Jgpsn9sM/Q3Nc0xyzm+4yTTnbimrIY5IAj+TBLZP/6SAJirzyGzzcKUrfhGulmZRFOGEiMf9kCbEsREEbfxTw/yEysQ8WM3cqOZZodPRBLrz+UoxnXkJYsO4hGOKJD3cRCqyttgZpI93u8kKyboawyIO/8Owv2YJuJ2wuUpiBuqhv4RE+zwfif50wD9tAzvxYcxQcQjhCbgQvQc9P0mJmyw4SSLJtzJVSM/V4VYdQNG17YQMz0oVqtR1b+welffuXAaYYk/YHSF9XuY8eFuGgIjER7ChDW8dL0exaPnHAzp6zS1PzBuSTnMSWy4X/4JZlXfoSw9Elx/BdqNQo/Z0IKm/mm8+HIA4CfB0WNUnB7C6IzQvxnOUIHzqcpn/3xjAMe+6wzuKfXs4BBIHLY07luv7+Dpc/aH5Bi9E0emYdnsXPzuhsz3kdKcVvJkeYkMfBVLjseUkN5/+Q6OdBXIyPGIImZTJppJSkQJGVhmtkexEt1VOv8HrWSKKau4Yb3zYx2krmOMLDHb6zmAazTbmkXHuUJ0FiYwhEgSKMfn3ysRzvWgsckG/3QFzr5EdZsRA520TY5HHG+vkRyLqMMsIvexXquhGtc0GmTmFOL2rxbfeTB3iNfIoXDlhgy4R9s0ebwgTJpwnzZn4mMRKCiwGg2QvLVhHyZ7Wa9ErkFt9ZdIO8EEH+MwrpGDk4z/zrtkPKJeE2zrmFDERIWtVY0WdOk4JL6xuYrcYNc1SclONUkQwk/SZmLO6THuWK8jNoz/0oCq6jaMLjJpMys2cDuFn331u55/9+e8gHu3NHg/LR6XCwtRfIuOf0OFyw1bdzGzc5P0bySkrwj2OiztrDLVnEFz0jlSN8ZbNPfdVlBbRm4+WO0mS4PlRFlmPNA8PqW74phv7dj7elmtU9BN5pkiYCSVMXx+lxFF/QTT7FgaIjdX+1NJo5Puffe7mp+y63P+q5moClqJrpiOe5XWdnydMlxOv5NFdE+FQwSWSC9/zKV6WvcwieEQSaTp5ahVSaDPUiG/MBuNkiLUaxR4WKLGZ9QbM7tk+FYTe6DvTqSnEiCFEeNOXi24f72x+OhuC5pvKDA+Y2WaHS8EQhpKRzsSiaN0I7GF/fa7mp+y63MOUaL26xOw9gHhCachpXUKN8uPbQHnEJ6nYf6Njv9uwtaHlsxZvJflMVJzVkZSnN96e2S7SCLAV/lqnZlZB4/b57e0ElWEgpQOC/FlpIzujpK0ZMQ+xNKIo6THVBqZbYdDJPFK/GRIy5Nj9Kc+jB/EAzH+NUCdPy4mPmsd42Y8ML9twoRByBD9Ko0viwa0twQjTaNE3Hq4obWOoRMP5VlIO8UEe5izeDd8NEmSkewOjgl7Z364mVRqi4iSz/0xGeRTrZa0j23cUk/qMw41inhi/hEtHzlSifoLLSnNuU5KOyYc67S/u4mG/hZ1fzB7E77hJDyWDpL9Ji22Nj3oEXHFBGm8JCPymtVKdyvLZqLLeptkt27vmN6fbtYITkFtpwZSqw89APMGZozofeyPMyedpy+bdQHSvLuoVW6f3sT/cf0/wz2CvqFv/YVd9EUNkkKZsQtEJxFxie+kG5FDQ3QSEZeITiLiAuA/WInU9M387HAAAAAASUVORK5CYII=)\n",
        " as coef_ and\n",
        "\n",
        "![image.png](data:image/png;base64,iVBORw0KGgoAAAANSUhEUgAAACAAAAAXCAYAAABqBU3hAAAAAXNSR0IArs4c6QAAAARnQU1BAACxjwv8YQUAAAAJcEhZcwAADsMAAA7DAcdvqGQAAAJXSURBVEhL7ZZdSFNhGMf/OWjRxS5ii2CLcNnHKUEnwRzBqgvzJqg4QrDRhRXIKDYsWCFBxrKLQiJI2sUgUAgcBS2DqJHmIOeBZCM2vbCNwEmDM4qdgTiYvL3nI9PcBwPhBPm7OP/n/z4PnIeH57ycbYQCFWlQVDUaglklUgn1J6CoavzLDRSRDHjg9HrQZe1GYK6onOfwrr8bzkEOAnXJAAvm4GkMJeRsvVRsoBh5iF7egaf9LI7+5HD/VVxOLE5i+DmHzA4ddNTu1hvoM4Op2YyUrpcKDRQQ/cTjygUrtLEIgtDi4vFWKSN84RClamPMkjec86KvGWgymiSPlRyiQx64fM8wSCflCszRWVZh9Lt4FVVCICE3QxpbHpCpkuiXycQd6g+4SeiHVEBJkeHzf3x+zE0aO/0kIdaXYmSghSE3PyzLyTJUX0JhGuNvqbJ22DTiQRrJSSrtVljE+YtkY5jYZVd8Dh/fhIEjZuwV6zUmNB0DguGItC8bidf4CubjeE3Fdsgo++wsZhapMvvlF1AWxl9COGFRfAbz09LxelI88kq4jplwjQb0RrRR4YWCZIvf0kiJQUmywBKHkTEL+lh5H0SKS0qwFr5QfgJGc40G9jnw6LEDhhc96LruxaURPe76Pej87IPz9j24robRPOBG206lnqJdE6+i3U7XuAx7WEDZhU2CJ6EeuqS970le8aOXGXL41m+/keoTqBs9Tp7pALg0FkS7ksLXiAlnO9qlO6Mcm/8/IN4Dfh+e8K04pYkjoWNx45p9dWn/ZuuHZKuB/70B4BcA/H+uYQYl4QAAAABJRU5ErkJggg==)\n",
        "as intercept_."
      ],
      "metadata": {
        "id": "OpAQeQkymHxd"
      }
    },
    {
      "cell_type": "markdown",
      "source": [
        "### Ordinary Least Squares (LinearRegression)\n",
        "\n",
        "LinearRegression fits a linear model with coefficients\n",
        "![image.png](data:image/png;base64,iVBORw0KGgoAAAANSUhEUgAAAIwAAAAWCAYAAAASPXQbAAAAAXNSR0IArs4c6QAAAARnQU1BAACxjwv8YQUAAAAJcEhZcwAADsMAAA7DAcdvqGQAAAZxSURBVGhD7Zp/TFNXFMe/m0tYTGBxoWQGGILgVmATmBmgWYUsHTPgVEpw1n9WzIKKoaIR58aUibAJssGiQQOBBAYJpJghbqJkAo0gJEDNRiGTH9mkjYSSEWo0NJHc3dd3i7Q8QBTEl/ST0Ms557bv3dfzvufcB68QCsTG1Bj07SZ4bJJC4sJ8Tp4Ly0gfuscliJS6M48wr7JRPEwZcOVIPPKNrs5kWUJcJK4YLoxFUq2BeYQRncIMVCixXaeENi8OklXM6WRpGG/E4eg8BPxyAynBzOeAuBRmpBY5WcDR/c5kWRbWyHHoqDvyc2sxzFyOiCph9LWX0BwSh6j1zOFkyfGXxSGsvRA1d5jDARElTB+aNQYEbYuAv1Ndlg+fCOwIHkNNax9z2DM7YR71oSRFhcMpSoSoyqC3MP9II06pVMhvfUAbTzpnRyj8oi9BP8Xiy82QDg1GIMjHkzlsWKAvUWNvuhoJ4SqU9NlOeAzXM1XYm98BM7X0JQpIN3yCCz18VNws55o94f0+YLqlEyxLDgljQXPuMYwqf8bZ3YEwt+ahTsdHhrVVqGg14vU3XIFVEnispU5jO/QjfNwRszYP2+MVT//zvda6yDkZN0IPL3h72G+NLPQ4aSYlijIVCBrvQM6vTEuNLSiv6oDhdTe4UdPDXUJfDWjrnX8XIAaWd80ukKz1ArqMMAiJAbdLmmaihWQf1JD+x5Ok7XQI8d2YRZoecgEzaUiTEt+ADGZTBitJXEAWaXvM7GVmVJNMj/8FqTYwhxUzacpJJdWDhEzeyiLvBoSQky2T1sjE78fofCk5/gdv0xMm5buk5OQtZjImeutJcX0vsc16+Xn+NS+E8LXmsVcYNxm+vqCAv7kR5RUWuOyWI2o19Vt0aLtKx23hCONsG9tCELSi/YQrok4UItHvAa7XVMGyWolPt3AKZEF3B3fCcmwOnalIcnwQyP9m0hbigFqNpIPpyLlpoO8QC8++5qVAsOk1t2txnY6JsnDeMUQbTjpEhodYpY7DpNNCsuWJvaKY23HzGh0VMkRaE3gI+hY6RIQj1HaCIzo0vSmbtiUyNYoKv0WiWHdcz7DmpUAwYQb+4jI1HEHreNvUyzdAQX60tlkxoKHajOhNNns2i+5hsubvYSTruG92EKZx3raj/w6u0CHyHdYQj/RyJRiQroc3U8Dhm7Uwbw2dtufHgoFrZcgvrIX+EXM5MmWBeT5ZWihOscwzwTLUiJJCur3tmWPOotdMFSmTNsqJ4UhIT8epTLq+E0oklM3eDY2ODdHXQHi/xdt2sNJkx73KPbSGxZLiXs6i/UyO3FobbbVw8nYuUZzVvdi6b9AQpV19nsE/lURBY3L+hK3nJ6O27+l2q00etpPsz3NJl63/msZEqvfReWk3yATz8OjIuY1cz0Y/s5Q2C45MtpOT1ng8KRcILxjnrinXI9LPjxOeQLoK+LhvbCnpZz47FrtmOl+ZpiHVp+icfRpyj+s9O3PpMZJJ9X1+Cs8kaeLm7KLHFehPBRXGe3cuipQS1CQrcTh9P8olGShVy9GdpcJXNEuTGqT4QR1C++kXiGcgNtObqftf7jZywEeJnwqVkGiSkXAkHUkV7vjuohoxnVnYm3EGB1IaEZydat9/zUsIvrxchcoTcgyMmJhvBq+5wduHrn5NIDzopnEWC8XplXNb60dfXRHkLlwvwlS10JQdQ8zdMZiEdiuLXbOXAkVn1sNEy5Z/BK865lFubQaY7aTdiOE/aQ58PMfzLpY4oqDnPFW6XZXCd9wzMZfC8HC7BVX1MLNWgPsaorKpwVJgVWk5ye7kVbrrLFWxmALSNVO0rcolJ+d0zHZAUGFeVoIUyYjqqUXzXeZYTqb6UFPsgp3Rc/dpy42+rgwucVufsu9aGMtgH25DiuC3qfo90qKuyhOJagXCZpSKAe1VdMuSkfgeczjCEkc09FyMJb6p9YKKsBgmOivJuYIMouB6jY17yPGCAlLX++RW6y/ds7LqMlhKFMlLqC4Ua18UE09U3xSQ7IOpJLt+0L4P/e8GUdNrUfw3swUQXcKQx8OkLvXDlf0yRQn/EE92nm+SZ0Gva3XyR2S/Zv7rKqqSZGWVFz778Tcc9RzDsHietq083DOZHhdEbhAusRbTA3gfuowixfwlWJz/oulkcZjvoKasZfqPicE76W7KhxmLxJkwThaF+EqSkxUE+B/nxwkMwUmUHAAAAABJRU5ErkJggg==)\n",
        " to minimize the residual sum of squares between the observed targets in the dataset, and the targets predicted by the linear approximation.\n",
        "\n",
        " Mathematically it solves a problem of the form:\n",
        "\n",
        "![image.png](data:image/png;base64,iVBORw0KGgoAAAANSUhEUgAAAIkAAAAhCAYAAADta4hKAAAAAXNSR0IArs4c6QAAAARnQU1BAACxjwv8YQUAAAAJcEhZcwAADsMAAA7DAcdvqGQAAAgZSURBVHhe7Zt/TBvnGce/G1sspYqrSFCtCiytoUkJaeWQaoZmcugfLrCadKsjshoRxQkTSYsGXWRaKiiJSEgGoiMRbERh8QSCCoSjtLAFwhR+aAtYW7AnYqwxsNrYSGiHNmG0iKuCbu97dxQbjgY7JhC4j3S893zfO/vl/Nz7PM979nc4AmRkvoXviq2MzLLITiLzSGQnkXkkspPIPBI5cd2gsKNWlFscmB7vw0BEBn79WzNStoudQSLPJBsR1oGqYhv255Wh+rM/IG/OguO5zfCI3cEiO8lGxNWHRkcHzne4gAgVkjPiAWL3fiX2B8k6dhIWHocDHlY0eaS0zQU74cDQROAFWKLFZ6C6MBd5r0XzpkKhJH99YEO8buvYSWYwUHMJA1OiySOlidyz4PA7eqh37YFK3NRp59D1X6EvQ7Ogx2sNyLKQu+wpxDdYh6q/MqIlsERTqJCak4/s/duAOTd622xQpp9EaqzYHyRhdpIZdBVpyAehR+2T/gz2mtB2vQP9n+oEe5cZbZ3FSKXJGum7VkR0lQHVHXa4+q1oMpEpeBPgaalAY1Qxmi7oERMhikESZidh4LHPkHYC//qStk8epVaPQ3SHZPe9o7xEhmPFhxdYXLxShkO7FKK48fFY8/HBiB6/v2xEjDf0MB1mJ1Eh5492OGyDqE4nU91aoNTiSDZ1BDeu3nQADxwoP2FB3KVKZO4UDtkMMP3n8JFdh4v5B/Gsz4XW4maMrJucJEIB5fa1vFsVSP6JkfwlF6rVgoJf5WLseB0+Tlojp10LRi3IymnGQGsh3jyggVpjQDkTi+hnxP4gWeIkQ/UGaDRasu1B6Q0b6s+UoLSsEBlkGj9VawMzaUNtYb6gkeOOV/TDM7dw7ptigpjV6uU15mYJ0TTQaPchq74bX1SV4KML55BFtMNnrBh7wB8WXtR65O0gLdMN+87LqDYIWf4SHrhQ/74JBe8boTZZ4Jy/0ya7UWoykWSQhMw5cszb+6B64wqc4v+5KpCxNBaacMpkhOak31gwha4zRLcK13NF7DLh1ugI3P5bTy4SQsxJQFdclzBQwb34Ujz3YkoF1/MfQZpu/+Wy2id9s4JAEc81tnhEgeBt44z03JdyuYZx8djhOk5LNH3DuGAvgeFaThzjWryiySOlSeHjOs30/chW2sf5jc6PWa6n9C3u/F983GxfGX/s+QGh537LMWLruJphajHc57lqYq/kfUNl+bFw402cntimNoY3/92WG3htCVJaOJEON98XmoSjhm+WcpXPC3ejlDY26Vd+iecGQDyYD0AGIzJVYiiKjAStyJzewHIuHHisZnz4z3jEUaO5GwNSs5XPhjuMCZlJWzDUZwW2GvH6q7RjBiODNtJqkKCidiQOFZqRQEYb8wNqrwKLxwId9u4Wuhh7P5yIxv7dkYKwBnxrTqJ8Zou4t4CUtmKUCsFZVhH2biVOXI3F7xorka2mihUttyQWVkiC+3GtAXG+bjQ0slAc0SFlK9FZO+50kDZdg0Rqz5Oulp6uff0of8eAjBVtlej1ief5s2gsMBiE0h0snMP9pNUiMciKnT67KS0qQUEmSR3eJe9L14tCJPyJ61pCSt1T740j54oZyUoV3j4qrJl0dQ+S4lwa32A/ukibqdUIgtuFXtIka9Sg65QUejdHHViwA6Af8HUr2le0mZEi+SICzO0OYSw6jXAzkXzozg3SLuegyyE/u1kGiVJXeUCHVLrTbUGnm5eWMDZMpw0SWl4QbGbEzl/MBNV8sutFZ4sPb4hL3KuJZ5zOGmQG2y3Ot1+N8KHS32FXxOZ5dhMEPgdqT5gwcLgysNTdrsMRI91xoabdwUuLiYqmMYmBjw8DLMZGBW9ixUqGHfwMn79WSHIpwV5NFM9SR2TBPqQWi6G2Zj4fef3VIB00zM9ulnyfhJaxpQ1uOCfJK26NRIK+BHkv1KFmBdoHRPuNv5Z3Gdd2WHH80i043XQFdhvi9p7E6V+4UbNIu3jdhER+BPNMoTXHDJy1IJOWszyBmu82KaXJ64y5psglpWxDdv2fcVZLHcWNxnePofzufJ8CUfEqpOVdwVmdXxI450VXWQmqbrPYk6QAS8rHI6wVVe0+JCQpyayiw9kiPeJWO5mi0DL4TAUaGSUSI7zo+bsLzAMjmlzFSBbDDWM9iYK5YjRlLjiOlPYNc/Q66FH1fAXaPw1xaZ6vcdYlj1MCP4U8nOXuj49z0w9Fe7aP+4SUvi8vKuGDLYHvN+VyuveauHv/E4UQ2FiJ61PMUFUSDqbpUXBDqMR83VY0QoXsDDGJDYF1+uxGJjSm4HWTT5DkUD9NIqHQZ0NNVTfickhYV4fmIuv72Y1MCEQiNc+M1O0MbjZUoiCvGThtRdtpDZSh5BBhfnbzGDnJLHfvmpkz/fwt7kckbk5TxV7HGX9WwfVMj3NXD6m5l8sHl1kSXwkkRtvt3P2AWCqlbS5mvXbu7peBV1VKCyehzySTHaga1uLoj78GM+LFNJHGbFYMfG8HYpUqpGZpyLRJyi7h6BBQIEatRoz/qqektrlQ7FAjcWdgCJLSwknoThKlR/W5aDjbvEhMT0IMiavOv3kRc3Af2QdifhiLhFfig1sEklmXhO4k9HsjkyPonFAj7aAKYEfg7I9GyitCre78hx2Ju6P4fZmnm8dLXH0MxhCNGLo2NUX3geeithGHsaH1Txqk7X0SK1Ayq83j/YJvzosvivLRsEWLxK8nSP7hxdBDDVKUM3jusBnZspNsCOSfeco8AuD/K5rvBmD7WpwAAAAASUVORK5CYII=)\n",
        "\n",
        "\n",
        "![image.png](data:image/png;base64,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)\n",
        "\n"
      ],
      "metadata": {
        "id": "-OTNKBvEoe13"
      }
    },
    {
      "cell_type": "markdown",
      "source": [
        "\n",
        "Linear Regression is a machine learning algorithm based on supervised learning. It performs a regression task.\n",
        "\n",
        "Regression models a target prediction value based on independent variables.\n",
        "\n",
        "It is mostly used for finding out the relationship between variables and forecasting.\n",
        "Different regression models differ based on:\n",
        "\n",
        "-   the kind of relationship between the dependent and independent variables, they are considering, and,\n",
        "-   the number of independent variables being used.\n"
      ],
      "metadata": {
        "id": "x-gYi69biPul"
      }
    },
    {
      "cell_type": "markdown",
      "source": [
        "\n",
        "\n",
        "Scikit-learn is a Python package that makes it easier to apply a variety of Machine Learning (ML) algorithms for predictive data analysis, such as linear regression.\n",
        "\n",
        "Linear regression is defined as the process of determining the straight line that best fits a set of dispersed data points:\n",
        "\n",
        "The line can then be projected to forecast fresh data points. Because of its simplicity and essential features, linear regression is a fundamental Machine Learning method.\n",
        "\n",
        "### Sklearn Linear Regression Concepts\n",
        "\n",
        "When working with scikit-linear learn's regression approach, you will encounter the following fundamental concepts:\n",
        "\n",
        "    Best Fit:\n",
        "    The straight line in a plot that minimizes the divergence between related dispersed data points\n",
        "\n",
        "    Coefficient:\n",
        "    Also known as a parameter, is the factor that is multiplied by a variable.\n",
        "    A coefficient in linear regression represents changes in a Response Variable\n",
        "\n",
        "    Coefficient of Determination:\n",
        "    It is the correlation coefficient.\n",
        "    In a regression, this term is used to define the precision or degree of fit\n",
        "\n",
        "    Correlation:\n",
        "    the measurable intensity and degree of association between two variables, often known as the 'degree of correlation.'\n",
        "    The values range from -1.0 to 1.0\n",
        "\n",
        "    Dependent Feature:\n",
        "    A variable represented as y in the slope equation y=ax+b.\n",
        "    Also referred to as an Output or a Response\n",
        "\n",
        "    Estimated Regression Line:\n",
        "    the straight line that best fits a set of randomly distributed data points\n",
        "\n",
        "    Independent Feature:\n",
        "    a variable represented by the letter x in the slope equation y=ax+b.\n",
        "    Also referred to as an Input or a predictor\n",
        "\n",
        "    Intercept:\n",
        "    It is the point at where the slope intersects the Y-axis, indicated by the letter b in the slope equation y=ax+b\n",
        "\n",
        "    Least Squares:\n",
        "    a method for calculating the best fit to data by minimizing the sum of the squares of the discrepancies between observed and estimated values\n",
        "\n",
        "    Mean:\n",
        "    an average of a group of numbers; nevertheless, in linear regression, Mean is represented by a linear function\n",
        "\n",
        "    OLS (Ordinary Least Squares Regression):\n",
        "    sometimes known as Linear Regression.\n",
        "\n",
        "    Residual:\n",
        "    the vertical distance between a data point and the regression line\n",
        "\n",
        "    Regression:\n",
        "    is an assessment of a variable's predicted change in relation to changes in other variables\n",
        "\n",
        "    Regression Model:\n",
        "    The optimum formula for approximating a regression\n",
        "\n",
        "    Response Variables:\n",
        "    This category covers both the Predicted Response (the value predicted by the regression) and the Actual Response (the actual value of the data point)\n",
        "\n",
        "    Slope:\n",
        "    the steepness of a regression line.\n",
        "    The linear relationship between two variables may be defined using slope and intercept: y=ax+b\n",
        "\n",
        "    Simple linear regression:\n",
        "    A linear regression with a single independent variable"
      ],
      "metadata": {
        "id": "5rUY4dabjg2a"
      }
    },
    {
      "cell_type": "code",
      "execution_count": null,
      "metadata": {
        "id": "Qfe8o61D0szF"
      },
      "outputs": [],
      "source": [
        "#  Importing Numpy as np\n",
        "import numpy as np\n",
        "\n",
        "# Importing Pandas as pd\n",
        "import pandas as pd\n",
        "\n",
        "# Importing matplotlib.pyplot as plt\n",
        "import matplotlib.pyplot as plt\n"
      ]
    },
    {
      "cell_type": "code",
      "execution_count": null,
      "metadata": {
        "id": "cAPItixW0-lM",
        "colab": {
          "base_uri": "https://localhost:8080/",
          "height": 424
        },
        "outputId": "a690e2a4-6209-447a-cfd5-8a92d6d165ca"
      },
      "outputs": [
        {
          "output_type": "execute_result",
          "data": {
            "text/plain": [
              "    Gasto en Publicidad        Ventas\n",
              "0            593.932154  26105.234131\n",
              "1            743.670430  36153.420339\n",
              "2            642.487038  30554.035033\n",
              "3            590.394865  28936.021218\n",
              "4            481.289319  22072.792618\n",
              "..                  ...           ...\n",
              "95           264.872226  12675.690453\n",
              "96           627.861641  27308.879490\n",
              "97           118.096792   6517.410585\n",
              "98           846.046026  34758.209585\n",
              "99           104.225929   5623.688753\n",
              "\n",
              "[100 rows x 2 columns]"
            ],
            "text/html": [
              "\n",
              "\n",
              "  <div id=\"df-fc498c9c-688f-48dd-8167-1eb3211ad30b\">\n",
              "    <div class=\"colab-df-container\">\n",
              "      <div>\n",
              "<style scoped>\n",
              "    .dataframe tbody tr th:only-of-type {\n",
              "        vertical-align: middle;\n",
              "    }\n",
              "\n",
              "    .dataframe tbody tr th {\n",
              "        vertical-align: top;\n",
              "    }\n",
              "\n",
              "    .dataframe thead th {\n",
              "        text-align: right;\n",
              "    }\n",
              "</style>\n",
              "<table border=\"1\" class=\"dataframe\">\n",
              "  <thead>\n",
              "    <tr style=\"text-align: right;\">\n",
              "      <th></th>\n",
              "      <th>Gasto en Publicidad</th>\n",
              "      <th>Ventas</th>\n",
              "    </tr>\n",
              "  </thead>\n",
              "  <tbody>\n",
              "    <tr>\n",
              "      <th>0</th>\n",
              "      <td>593.932154</td>\n",
              "      <td>26105.234131</td>\n",
              "    </tr>\n",
              "    <tr>\n",
              "      <th>1</th>\n",
              "      <td>743.670430</td>\n",
              "      <td>36153.420339</td>\n",
              "    </tr>\n",
              "    <tr>\n",
              "      <th>2</th>\n",
              "      <td>642.487038</td>\n",
              "      <td>30554.035033</td>\n",
              "    </tr>\n",
              "    <tr>\n",
              "      <th>3</th>\n",
              "      <td>590.394865</td>\n",
              "      <td>28936.021218</td>\n",
              "    </tr>\n",
              "    <tr>\n",
              "      <th>4</th>\n",
              "      <td>481.289319</td>\n",
              "      <td>22072.792618</td>\n",
              "    </tr>\n",
              "    <tr>\n",
              "      <th>...</th>\n",
              "      <td>...</td>\n",
              "      <td>...</td>\n",
              "    </tr>\n",
              "    <tr>\n",
              "      <th>95</th>\n",
              "      <td>264.872226</td>\n",
              "      <td>12675.690453</td>\n",
              "    </tr>\n",
              "    <tr>\n",
              "      <th>96</th>\n",
              "      <td>627.861641</td>\n",
              "      <td>27308.879490</td>\n",
              "    </tr>\n",
              "    <tr>\n",
              "      <th>97</th>\n",
              "      <td>118.096792</td>\n",
              "      <td>6517.410585</td>\n",
              "    </tr>\n",
              "    <tr>\n",
              "      <th>98</th>\n",
              "      <td>846.046026</td>\n",
              "      <td>34758.209585</td>\n",
              "    </tr>\n",
              "    <tr>\n",
              "      <th>99</th>\n",
              "      <td>104.225929</td>\n",
              "      <td>5623.688753</td>\n",
              "    </tr>\n",
              "  </tbody>\n",
              "</table>\n",
              "<p>100 rows × 2 columns</p>\n",
              "</div>\n",
              "      <button class=\"colab-df-convert\" onclick=\"convertToInteractive('df-fc498c9c-688f-48dd-8167-1eb3211ad30b')\"\n",
              "              title=\"Convert this dataframe to an interactive table.\"\n",
              "              style=\"display:none;\">\n",
              "\n",
              "  <svg xmlns=\"http://www.w3.org/2000/svg\" height=\"24px\"viewBox=\"0 0 24 24\"\n",
              "       width=\"24px\">\n",
              "    <path d=\"M0 0h24v24H0V0z\" fill=\"none\"/>\n",
              "    <path d=\"M18.56 5.44l.94 2.06.94-2.06 2.06-.94-2.06-.94-.94-2.06-.94 2.06-2.06.94zm-11 1L8.5 8.5l.94-2.06 2.06-.94-2.06-.94L8.5 2.5l-.94 2.06-2.06.94zm10 10l.94 2.06.94-2.06 2.06-.94-2.06-.94-.94-2.06-.94 2.06-2.06.94z\"/><path d=\"M17.41 7.96l-1.37-1.37c-.4-.4-.92-.59-1.43-.59-.52 0-1.04.2-1.43.59L10.3 9.45l-7.72 7.72c-.78.78-.78 2.05 0 2.83L4 21.41c.39.39.9.59 1.41.59.51 0 1.02-.2 1.41-.59l7.78-7.78 2.81-2.81c.8-.78.8-2.07 0-2.86zM5.41 20L4 18.59l7.72-7.72 1.47 1.35L5.41 20z\"/>\n",
              "  </svg>\n",
              "      </button>\n",
              "\n",
              "\n",
              "\n",
              "    <div id=\"df-1e388cf7-2ece-47c1-b863-533467cf9397\">\n",
              "      <button class=\"colab-df-quickchart\" onclick=\"quickchart('df-1e388cf7-2ece-47c1-b863-533467cf9397')\"\n",
              "              title=\"Suggest charts.\"\n",
              "              style=\"display:none;\">\n",
              "\n",
              "<svg xmlns=\"http://www.w3.org/2000/svg\" height=\"24px\"viewBox=\"0 0 24 24\"\n",
              "     width=\"24px\">\n",
              "    <g>\n",
              "        <path d=\"M19 3H5c-1.1 0-2 .9-2 2v14c0 1.1.9 2 2 2h14c1.1 0 2-.9 2-2V5c0-1.1-.9-2-2-2zM9 17H7v-7h2v7zm4 0h-2V7h2v10zm4 0h-2v-4h2v4z\"/>\n",
              "    </g>\n",
              "</svg>\n",
              "      </button>\n",
              "    </div>\n",
              "\n",
              "<style>\n",
              "  .colab-df-quickchart {\n",
              "    background-color: #E8F0FE;\n",
              "    border: none;\n",
              "    border-radius: 50%;\n",
              "    cursor: pointer;\n",
              "    display: none;\n",
              "    fill: #1967D2;\n",
              "    height: 32px;\n",
              "    padding: 0 0 0 0;\n",
              "    width: 32px;\n",
              "  }\n",
              "\n",
              "  .colab-df-quickchart:hover {\n",
              "    background-color: #E2EBFA;\n",
              "    box-shadow: 0px 1px 2px rgba(60, 64, 67, 0.3), 0px 1px 3px 1px rgba(60, 64, 67, 0.15);\n",
              "    fill: #174EA6;\n",
              "  }\n",
              "\n",
              "  [theme=dark] .colab-df-quickchart {\n",
              "    background-color: #3B4455;\n",
              "    fill: #D2E3FC;\n",
              "  }\n",
              "\n",
              "  [theme=dark] .colab-df-quickchart:hover {\n",
              "    background-color: #434B5C;\n",
              "    box-shadow: 0px 1px 3px 1px rgba(0, 0, 0, 0.15);\n",
              "    filter: drop-shadow(0px 1px 2px rgba(0, 0, 0, 0.3));\n",
              "    fill: #FFFFFF;\n",
              "  }\n",
              "</style>\n",
              "\n",
              "    <script>\n",
              "      async function quickchart(key) {\n",
              "        const containerElement = document.querySelector('#' + key);\n",
              "        const charts = await google.colab.kernel.invokeFunction(\n",
              "            'suggestCharts', [key], {});\n",
              "      }\n",
              "    </script>\n",
              "\n",
              "      <script>\n",
              "\n",
              "function displayQuickchartButton(domScope) {\n",
              "  let quickchartButtonEl =\n",
              "    domScope.querySelector('#df-1e388cf7-2ece-47c1-b863-533467cf9397 button.colab-df-quickchart');\n",
              "  quickchartButtonEl.style.display =\n",
              "    google.colab.kernel.accessAllowed ? 'block' : 'none';\n",
              "}\n",
              "\n",
              "        displayQuickchartButton(document);\n",
              "      </script>\n",
              "      <style>\n",
              "    .colab-df-container {\n",
              "      display:flex;\n",
              "      flex-wrap:wrap;\n",
              "      gap: 12px;\n",
              "    }\n",
              "\n",
              "    .colab-df-convert {\n",
              "      background-color: #E8F0FE;\n",
              "      border: none;\n",
              "      border-radius: 50%;\n",
              "      cursor: pointer;\n",
              "      display: none;\n",
              "      fill: #1967D2;\n",
              "      height: 32px;\n",
              "      padding: 0 0 0 0;\n",
              "      width: 32px;\n",
              "    }\n",
              "\n",
              "    .colab-df-convert:hover {\n",
              "      background-color: #E2EBFA;\n",
              "      box-shadow: 0px 1px 2px rgba(60, 64, 67, 0.3), 0px 1px 3px 1px rgba(60, 64, 67, 0.15);\n",
              "      fill: #174EA6;\n",
              "    }\n",
              "\n",
              "    [theme=dark] .colab-df-convert {\n",
              "      background-color: #3B4455;\n",
              "      fill: #D2E3FC;\n",
              "    }\n",
              "\n",
              "    [theme=dark] .colab-df-convert:hover {\n",
              "      background-color: #434B5C;\n",
              "      box-shadow: 0px 1px 3px 1px rgba(0, 0, 0, 0.15);\n",
              "      filter: drop-shadow(0px 1px 2px rgba(0, 0, 0, 0.3));\n",
              "      fill: #FFFFFF;\n",
              "    }\n",
              "  </style>\n",
              "\n",
              "      <script>\n",
              "        const buttonEl =\n",
              "          document.querySelector('#df-fc498c9c-688f-48dd-8167-1eb3211ad30b button.colab-df-convert');\n",
              "        buttonEl.style.display =\n",
              "          google.colab.kernel.accessAllowed ? 'block' : 'none';\n",
              "\n",
              "        async function convertToInteractive(key) {\n",
              "          const element = document.querySelector('#df-fc498c9c-688f-48dd-8167-1eb3211ad30b');\n",
              "          const dataTable =\n",
              "            await google.colab.kernel.invokeFunction('convertToInteractive',\n",
              "                                                     [key], {});\n",
              "          if (!dataTable) return;\n",
              "\n",
              "          const docLinkHtml = 'Like what you see? Visit the ' +\n",
              "            '<a target=\"_blank\" href=https://colab.research.google.com/notebooks/data_table.ipynb>data table notebook</a>'\n",
              "            + ' to learn more about interactive tables.';\n",
              "          element.innerHTML = '';\n",
              "          dataTable['output_type'] = 'display_data';\n",
              "          await google.colab.output.renderOutput(dataTable, element);\n",
              "          const docLink = document.createElement('div');\n",
              "          docLink.innerHTML = docLinkHtml;\n",
              "          element.appendChild(docLink);\n",
              "        }\n",
              "      </script>\n",
              "    </div>\n",
              "  </div>\n"
            ]
          },
          "metadata": {},
          "execution_count": 2
        }
      ],
      "source": [
        "#  Loading a dataset for Gasto de Publicidad and Ventas\n",
        "dataframe=pd.read_csv(\"https://gist.githubusercontent.com/javierIA/154c66e57da3915c75de447998c19822/raw/264cbe2e8ce1a5310d58d089c45c15a33057162b/datos.csv\")\n",
        "#  Showing Dataframe\n",
        "dataframe\n",
        "#  The dataframe has two columns with titles \"Gastos en Publicidad\" and \"Ventas\" with a total of 100 rows"
      ]
    },
    {
      "cell_type": "code",
      "execution_count": null,
      "metadata": {
        "colab": {
          "base_uri": "https://localhost:8080/",
          "height": 424
        },
        "id": "d1s6IHEq11yr",
        "outputId": "fe230dca-af02-4d3b-fa9b-f2205d095ef3"
      },
      "outputs": [
        {
          "output_type": "execute_result",
          "data": {
            "text/plain": [
              "    Gasto en Publicidad\n",
              "0            593.932154\n",
              "1            743.670430\n",
              "2            642.487038\n",
              "3            590.394865\n",
              "4            481.289319\n",
              "..                  ...\n",
              "95           264.872226\n",
              "96           627.861641\n",
              "97           118.096792\n",
              "98           846.046026\n",
              "99           104.225929\n",
              "\n",
              "[100 rows x 1 columns]"
            ],
            "text/html": [
              "\n",
              "\n",
              "  <div id=\"df-fa6bd5f9-78ea-4ed2-b5f1-17b8e5d7a1e5\">\n",
              "    <div class=\"colab-df-container\">\n",
              "      <div>\n",
              "<style scoped>\n",
              "    .dataframe tbody tr th:only-of-type {\n",
              "        vertical-align: middle;\n",
              "    }\n",
              "\n",
              "    .dataframe tbody tr th {\n",
              "        vertical-align: top;\n",
              "    }\n",
              "\n",
              "    .dataframe thead th {\n",
              "        text-align: right;\n",
              "    }\n",
              "</style>\n",
              "<table border=\"1\" class=\"dataframe\">\n",
              "  <thead>\n",
              "    <tr style=\"text-align: right;\">\n",
              "      <th></th>\n",
              "      <th>Gasto en Publicidad</th>\n",
              "    </tr>\n",
              "  </thead>\n",
              "  <tbody>\n",
              "    <tr>\n",
              "      <th>0</th>\n",
              "      <td>593.932154</td>\n",
              "    </tr>\n",
              "    <tr>\n",
              "      <th>1</th>\n",
              "      <td>743.670430</td>\n",
              "    </tr>\n",
              "    <tr>\n",
              "      <th>2</th>\n",
              "      <td>642.487038</td>\n",
              "    </tr>\n",
              "    <tr>\n",
              "      <th>3</th>\n",
              "      <td>590.394865</td>\n",
              "    </tr>\n",
              "    <tr>\n",
              "      <th>4</th>\n",
              "      <td>481.289319</td>\n",
              "    </tr>\n",
              "    <tr>\n",
              "      <th>...</th>\n",
              "      <td>...</td>\n",
              "    </tr>\n",
              "    <tr>\n",
              "      <th>95</th>\n",
              "      <td>264.872226</td>\n",
              "    </tr>\n",
              "    <tr>\n",
              "      <th>96</th>\n",
              "      <td>627.861641</td>\n",
              "    </tr>\n",
              "    <tr>\n",
              "      <th>97</th>\n",
              "      <td>118.096792</td>\n",
              "    </tr>\n",
              "    <tr>\n",
              "      <th>98</th>\n",
              "      <td>846.046026</td>\n",
              "    </tr>\n",
              "    <tr>\n",
              "      <th>99</th>\n",
              "      <td>104.225929</td>\n",
              "    </tr>\n",
              "  </tbody>\n",
              "</table>\n",
              "<p>100 rows × 1 columns</p>\n",
              "</div>\n",
              "      <button class=\"colab-df-convert\" onclick=\"convertToInteractive('df-fa6bd5f9-78ea-4ed2-b5f1-17b8e5d7a1e5')\"\n",
              "              title=\"Convert this dataframe to an interactive table.\"\n",
              "              style=\"display:none;\">\n",
              "\n",
              "  <svg xmlns=\"http://www.w3.org/2000/svg\" height=\"24px\"viewBox=\"0 0 24 24\"\n",
              "       width=\"24px\">\n",
              "    <path d=\"M0 0h24v24H0V0z\" fill=\"none\"/>\n",
              "    <path d=\"M18.56 5.44l.94 2.06.94-2.06 2.06-.94-2.06-.94-.94-2.06-.94 2.06-2.06.94zm-11 1L8.5 8.5l.94-2.06 2.06-.94-2.06-.94L8.5 2.5l-.94 2.06-2.06.94zm10 10l.94 2.06.94-2.06 2.06-.94-2.06-.94-.94-2.06-.94 2.06-2.06.94z\"/><path d=\"M17.41 7.96l-1.37-1.37c-.4-.4-.92-.59-1.43-.59-.52 0-1.04.2-1.43.59L10.3 9.45l-7.72 7.72c-.78.78-.78 2.05 0 2.83L4 21.41c.39.39.9.59 1.41.59.51 0 1.02-.2 1.41-.59l7.78-7.78 2.81-2.81c.8-.78.8-2.07 0-2.86zM5.41 20L4 18.59l7.72-7.72 1.47 1.35L5.41 20z\"/>\n",
              "  </svg>\n",
              "      </button>\n",
              "\n",
              "\n",
              "\n",
              "    <div id=\"df-bd53676b-6942-440e-9089-f5b97e45d706\">\n",
              "      <button class=\"colab-df-quickchart\" onclick=\"quickchart('df-bd53676b-6942-440e-9089-f5b97e45d706')\"\n",
              "              title=\"Suggest charts.\"\n",
              "              style=\"display:none;\">\n",
              "\n",
              "<svg xmlns=\"http://www.w3.org/2000/svg\" height=\"24px\"viewBox=\"0 0 24 24\"\n",
              "     width=\"24px\">\n",
              "    <g>\n",
              "        <path d=\"M19 3H5c-1.1 0-2 .9-2 2v14c0 1.1.9 2 2 2h14c1.1 0 2-.9 2-2V5c0-1.1-.9-2-2-2zM9 17H7v-7h2v7zm4 0h-2V7h2v10zm4 0h-2v-4h2v4z\"/>\n",
              "    </g>\n",
              "</svg>\n",
              "      </button>\n",
              "    </div>\n",
              "\n",
              "<style>\n",
              "  .colab-df-quickchart {\n",
              "    background-color: #E8F0FE;\n",
              "    border: none;\n",
              "    border-radius: 50%;\n",
              "    cursor: pointer;\n",
              "    display: none;\n",
              "    fill: #1967D2;\n",
              "    height: 32px;\n",
              "    padding: 0 0 0 0;\n",
              "    width: 32px;\n",
              "  }\n",
              "\n",
              "  .colab-df-quickchart:hover {\n",
              "    background-color: #E2EBFA;\n",
              "    box-shadow: 0px 1px 2px rgba(60, 64, 67, 0.3), 0px 1px 3px 1px rgba(60, 64, 67, 0.15);\n",
              "    fill: #174EA6;\n",
              "  }\n",
              "\n",
              "  [theme=dark] .colab-df-quickchart {\n",
              "    background-color: #3B4455;\n",
              "    fill: #D2E3FC;\n",
              "  }\n",
              "\n",
              "  [theme=dark] .colab-df-quickchart:hover {\n",
              "    background-color: #434B5C;\n",
              "    box-shadow: 0px 1px 3px 1px rgba(0, 0, 0, 0.15);\n",
              "    filter: drop-shadow(0px 1px 2px rgba(0, 0, 0, 0.3));\n",
              "    fill: #FFFFFF;\n",
              "  }\n",
              "</style>\n",
              "\n",
              "    <script>\n",
              "      async function quickchart(key) {\n",
              "        const containerElement = document.querySelector('#' + key);\n",
              "        const charts = await google.colab.kernel.invokeFunction(\n",
              "            'suggestCharts', [key], {});\n",
              "      }\n",
              "    </script>\n",
              "\n",
              "      <script>\n",
              "\n",
              "function displayQuickchartButton(domScope) {\n",
              "  let quickchartButtonEl =\n",
              "    domScope.querySelector('#df-bd53676b-6942-440e-9089-f5b97e45d706 button.colab-df-quickchart');\n",
              "  quickchartButtonEl.style.display =\n",
              "    google.colab.kernel.accessAllowed ? 'block' : 'none';\n",
              "}\n",
              "\n",
              "        displayQuickchartButton(document);\n",
              "      </script>\n",
              "      <style>\n",
              "    .colab-df-container {\n",
              "      display:flex;\n",
              "      flex-wrap:wrap;\n",
              "      gap: 12px;\n",
              "    }\n",
              "\n",
              "    .colab-df-convert {\n",
              "      background-color: #E8F0FE;\n",
              "      border: none;\n",
              "      border-radius: 50%;\n",
              "      cursor: pointer;\n",
              "      display: none;\n",
              "      fill: #1967D2;\n",
              "      height: 32px;\n",
              "      padding: 0 0 0 0;\n",
              "      width: 32px;\n",
              "    }\n",
              "\n",
              "    .colab-df-convert:hover {\n",
              "      background-color: #E2EBFA;\n",
              "      box-shadow: 0px 1px 2px rgba(60, 64, 67, 0.3), 0px 1px 3px 1px rgba(60, 64, 67, 0.15);\n",
              "      fill: #174EA6;\n",
              "    }\n",
              "\n",
              "    [theme=dark] .colab-df-convert {\n",
              "      background-color: #3B4455;\n",
              "      fill: #D2E3FC;\n",
              "    }\n",
              "\n",
              "    [theme=dark] .colab-df-convert:hover {\n",
              "      background-color: #434B5C;\n",
              "      box-shadow: 0px 1px 3px 1px rgba(0, 0, 0, 0.15);\n",
              "      filter: drop-shadow(0px 1px 2px rgba(0, 0, 0, 0.3));\n",
              "      fill: #FFFFFF;\n",
              "    }\n",
              "  </style>\n",
              "\n",
              "      <script>\n",
              "        const buttonEl =\n",
              "          document.querySelector('#df-fa6bd5f9-78ea-4ed2-b5f1-17b8e5d7a1e5 button.colab-df-convert');\n",
              "        buttonEl.style.display =\n",
              "          google.colab.kernel.accessAllowed ? 'block' : 'none';\n",
              "\n",
              "        async function convertToInteractive(key) {\n",
              "          const element = document.querySelector('#df-fa6bd5f9-78ea-4ed2-b5f1-17b8e5d7a1e5');\n",
              "          const dataTable =\n",
              "            await google.colab.kernel.invokeFunction('convertToInteractive',\n",
              "                                                     [key], {});\n",
              "          if (!dataTable) return;\n",
              "\n",
              "          const docLinkHtml = 'Like what you see? Visit the ' +\n",
              "            '<a target=\"_blank\" href=https://colab.research.google.com/notebooks/data_table.ipynb>data table notebook</a>'\n",
              "            + ' to learn more about interactive tables.';\n",
              "          element.innerHTML = '';\n",
              "          dataTable['output_type'] = 'display_data';\n",
              "          await google.colab.output.renderOutput(dataTable, element);\n",
              "          const docLink = document.createElement('div');\n",
              "          docLink.innerHTML = docLinkHtml;\n",
              "          element.appendChild(docLink);\n",
              "        }\n",
              "      </script>\n",
              "    </div>\n",
              "  </div>\n"
            ]
          },
          "metadata": {},
          "execution_count": 3
        }
      ],
      "source": [
        "#  Assigning the column \"Gastos en Publicidad\" to the X dataframe\n",
        "x=dataframe[[\"Gasto en Publicidad\"]]\n",
        "x"
      ]
    },
    {
      "cell_type": "code",
      "execution_count": null,
      "metadata": {
        "colab": {
          "base_uri": "https://localhost:8080/",
          "height": 424
        },
        "id": "rKj5r_eQ2OkB",
        "outputId": "e70ee10c-982e-4b57-a305-fd7d402068dc"
      },
      "outputs": [
        {
          "output_type": "execute_result",
          "data": {
            "text/plain": [
              "          Ventas\n",
              "0   26105.234131\n",
              "1   36153.420339\n",
              "2   30554.035033\n",
              "3   28936.021218\n",
              "4   22072.792618\n",
              "..           ...\n",
              "95  12675.690453\n",
              "96  27308.879490\n",
              "97   6517.410585\n",
              "98  34758.209585\n",
              "99   5623.688753\n",
              "\n",
              "[100 rows x 1 columns]"
            ],
            "text/html": [
              "\n",
              "\n",
              "  <div id=\"df-1e9f84bc-5162-46fd-9096-08fc84081402\">\n",
              "    <div class=\"colab-df-container\">\n",
              "      <div>\n",
              "<style scoped>\n",
              "    .dataframe tbody tr th:only-of-type {\n",
              "        vertical-align: middle;\n",
              "    }\n",
              "\n",
              "    .dataframe tbody tr th {\n",
              "        vertical-align: top;\n",
              "    }\n",
              "\n",
              "    .dataframe thead th {\n",
              "        text-align: right;\n",
              "    }\n",
              "</style>\n",
              "<table border=\"1\" class=\"dataframe\">\n",
              "  <thead>\n",
              "    <tr style=\"text-align: right;\">\n",
              "      <th></th>\n",
              "      <th>Ventas</th>\n",
              "    </tr>\n",
              "  </thead>\n",
              "  <tbody>\n",
              "    <tr>\n",
              "      <th>0</th>\n",
              "      <td>26105.234131</td>\n",
              "    </tr>\n",
              "    <tr>\n",
              "      <th>1</th>\n",
              "      <td>36153.420339</td>\n",
              "    </tr>\n",
              "    <tr>\n",
              "      <th>2</th>\n",
              "      <td>30554.035033</td>\n",
              "    </tr>\n",
              "    <tr>\n",
              "      <th>3</th>\n",
              "      <td>28936.021218</td>\n",
              "    </tr>\n",
              "    <tr>\n",
              "      <th>4</th>\n",
              "      <td>22072.792618</td>\n",
              "    </tr>\n",
              "    <tr>\n",
              "      <th>...</th>\n",
              "      <td>...</td>\n",
              "    </tr>\n",
              "    <tr>\n",
              "      <th>95</th>\n",
              "      <td>12675.690453</td>\n",
              "    </tr>\n",
              "    <tr>\n",
              "      <th>96</th>\n",
              "      <td>27308.879490</td>\n",
              "    </tr>\n",
              "    <tr>\n",
              "      <th>97</th>\n",
              "      <td>6517.410585</td>\n",
              "    </tr>\n",
              "    <tr>\n",
              "      <th>98</th>\n",
              "      <td>34758.209585</td>\n",
              "    </tr>\n",
              "    <tr>\n",
              "      <th>99</th>\n",
              "      <td>5623.688753</td>\n",
              "    </tr>\n",
              "  </tbody>\n",
              "</table>\n",
              "<p>100 rows × 1 columns</p>\n",
              "</div>\n",
              "      <button class=\"colab-df-convert\" onclick=\"convertToInteractive('df-1e9f84bc-5162-46fd-9096-08fc84081402')\"\n",
              "              title=\"Convert this dataframe to an interactive table.\"\n",
              "              style=\"display:none;\">\n",
              "\n",
              "  <svg xmlns=\"http://www.w3.org/2000/svg\" height=\"24px\"viewBox=\"0 0 24 24\"\n",
              "       width=\"24px\">\n",
              "    <path d=\"M0 0h24v24H0V0z\" fill=\"none\"/>\n",
              "    <path d=\"M18.56 5.44l.94 2.06.94-2.06 2.06-.94-2.06-.94-.94-2.06-.94 2.06-2.06.94zm-11 1L8.5 8.5l.94-2.06 2.06-.94-2.06-.94L8.5 2.5l-.94 2.06-2.06.94zm10 10l.94 2.06.94-2.06 2.06-.94-2.06-.94-.94-2.06-.94 2.06-2.06.94z\"/><path d=\"M17.41 7.96l-1.37-1.37c-.4-.4-.92-.59-1.43-.59-.52 0-1.04.2-1.43.59L10.3 9.45l-7.72 7.72c-.78.78-.78 2.05 0 2.83L4 21.41c.39.39.9.59 1.41.59.51 0 1.02-.2 1.41-.59l7.78-7.78 2.81-2.81c.8-.78.8-2.07 0-2.86zM5.41 20L4 18.59l7.72-7.72 1.47 1.35L5.41 20z\"/>\n",
              "  </svg>\n",
              "      </button>\n",
              "\n",
              "\n",
              "\n",
              "    <div id=\"df-e9b728ab-3020-4e98-a5aa-530cf4b46633\">\n",
              "      <button class=\"colab-df-quickchart\" onclick=\"quickchart('df-e9b728ab-3020-4e98-a5aa-530cf4b46633')\"\n",
              "              title=\"Suggest charts.\"\n",
              "              style=\"display:none;\">\n",
              "\n",
              "<svg xmlns=\"http://www.w3.org/2000/svg\" height=\"24px\"viewBox=\"0 0 24 24\"\n",
              "     width=\"24px\">\n",
              "    <g>\n",
              "        <path d=\"M19 3H5c-1.1 0-2 .9-2 2v14c0 1.1.9 2 2 2h14c1.1 0 2-.9 2-2V5c0-1.1-.9-2-2-2zM9 17H7v-7h2v7zm4 0h-2V7h2v10zm4 0h-2v-4h2v4z\"/>\n",
              "    </g>\n",
              "</svg>\n",
              "      </button>\n",
              "    </div>\n",
              "\n",
              "<style>\n",
              "  .colab-df-quickchart {\n",
              "    background-color: #E8F0FE;\n",
              "    border: none;\n",
              "    border-radius: 50%;\n",
              "    cursor: pointer;\n",
              "    display: none;\n",
              "    fill: #1967D2;\n",
              "    height: 32px;\n",
              "    padding: 0 0 0 0;\n",
              "    width: 32px;\n",
              "  }\n",
              "\n",
              "  .colab-df-quickchart:hover {\n",
              "    background-color: #E2EBFA;\n",
              "    box-shadow: 0px 1px 2px rgba(60, 64, 67, 0.3), 0px 1px 3px 1px rgba(60, 64, 67, 0.15);\n",
              "    fill: #174EA6;\n",
              "  }\n",
              "\n",
              "  [theme=dark] .colab-df-quickchart {\n",
              "    background-color: #3B4455;\n",
              "    fill: #D2E3FC;\n",
              "  }\n",
              "\n",
              "  [theme=dark] .colab-df-quickchart:hover {\n",
              "    background-color: #434B5C;\n",
              "    box-shadow: 0px 1px 3px 1px rgba(0, 0, 0, 0.15);\n",
              "    filter: drop-shadow(0px 1px 2px rgba(0, 0, 0, 0.3));\n",
              "    fill: #FFFFFF;\n",
              "  }\n",
              "</style>\n",
              "\n",
              "    <script>\n",
              "      async function quickchart(key) {\n",
              "        const containerElement = document.querySelector('#' + key);\n",
              "        const charts = await google.colab.kernel.invokeFunction(\n",
              "            'suggestCharts', [key], {});\n",
              "      }\n",
              "    </script>\n",
              "\n",
              "      <script>\n",
              "\n",
              "function displayQuickchartButton(domScope) {\n",
              "  let quickchartButtonEl =\n",
              "    domScope.querySelector('#df-e9b728ab-3020-4e98-a5aa-530cf4b46633 button.colab-df-quickchart');\n",
              "  quickchartButtonEl.style.display =\n",
              "    google.colab.kernel.accessAllowed ? 'block' : 'none';\n",
              "}\n",
              "\n",
              "        displayQuickchartButton(document);\n",
              "      </script>\n",
              "      <style>\n",
              "    .colab-df-container {\n",
              "      display:flex;\n",
              "      flex-wrap:wrap;\n",
              "      gap: 12px;\n",
              "    }\n",
              "\n",
              "    .colab-df-convert {\n",
              "      background-color: #E8F0FE;\n",
              "      border: none;\n",
              "      border-radius: 50%;\n",
              "      cursor: pointer;\n",
              "      display: none;\n",
              "      fill: #1967D2;\n",
              "      height: 32px;\n",
              "      padding: 0 0 0 0;\n",
              "      width: 32px;\n",
              "    }\n",
              "\n",
              "    .colab-df-convert:hover {\n",
              "      background-color: #E2EBFA;\n",
              "      box-shadow: 0px 1px 2px rgba(60, 64, 67, 0.3), 0px 1px 3px 1px rgba(60, 64, 67, 0.15);\n",
              "      fill: #174EA6;\n",
              "    }\n",
              "\n",
              "    [theme=dark] .colab-df-convert {\n",
              "      background-color: #3B4455;\n",
              "      fill: #D2E3FC;\n",
              "    }\n",
              "\n",
              "    [theme=dark] .colab-df-convert:hover {\n",
              "      background-color: #434B5C;\n",
              "      box-shadow: 0px 1px 3px 1px rgba(0, 0, 0, 0.15);\n",
              "      filter: drop-shadow(0px 1px 2px rgba(0, 0, 0, 0.3));\n",
              "      fill: #FFFFFF;\n",
              "    }\n",
              "  </style>\n",
              "\n",
              "      <script>\n",
              "        const buttonEl =\n",
              "          document.querySelector('#df-1e9f84bc-5162-46fd-9096-08fc84081402 button.colab-df-convert');\n",
              "        buttonEl.style.display =\n",
              "          google.colab.kernel.accessAllowed ? 'block' : 'none';\n",
              "\n",
              "        async function convertToInteractive(key) {\n",
              "          const element = document.querySelector('#df-1e9f84bc-5162-46fd-9096-08fc84081402');\n",
              "          const dataTable =\n",
              "            await google.colab.kernel.invokeFunction('convertToInteractive',\n",
              "                                                     [key], {});\n",
              "          if (!dataTable) return;\n",
              "\n",
              "          const docLinkHtml = 'Like what you see? Visit the ' +\n",
              "            '<a target=\"_blank\" href=https://colab.research.google.com/notebooks/data_table.ipynb>data table notebook</a>'\n",
              "            + ' to learn more about interactive tables.';\n",
              "          element.innerHTML = '';\n",
              "          dataTable['output_type'] = 'display_data';\n",
              "          await google.colab.output.renderOutput(dataTable, element);\n",
              "          const docLink = document.createElement('div');\n",
              "          docLink.innerHTML = docLinkHtml;\n",
              "          element.appendChild(docLink);\n",
              "        }\n",
              "      </script>\n",
              "    </div>\n",
              "  </div>\n"
            ]
          },
          "metadata": {},
          "execution_count": 4
        }
      ],
      "source": [
        "#  Assigning the column \"Ventas\" to the Y dataframe\n",
        "y=dataframe[[\"Ventas\"]]\n",
        "y\n"
      ]
    },
    {
      "cell_type": "code",
      "execution_count": null,
      "metadata": {
        "colab": {
          "base_uri": "https://localhost:8080/",
          "height": 466
        },
        "id": "KpPLF0wG2vkK",
        "outputId": "38b4fed3-14a4-4579-b9a5-90fc3a3ff394"
      },
      "outputs": [
        {
          "output_type": "execute_result",
          "data": {
            "text/plain": [
              "Text(0, 0.5, 'Ventas')"
            ]
          },
          "metadata": {},
          "execution_count": 5
        },
        {
          "output_type": "display_data",
          "data": {
            "text/plain": [
              "<Figure size 640x480 with 1 Axes>"
            ],
            "image/png": "[encoded data removed]"
          },
          "metadata": {}
        }
      ],
      "source": [
        "# Creating a scatter plot X vs. Y\n",
        "plt.scatter(x,y)\n",
        "plt.xlabel(\"Gasto en Publicidad\")\n",
        "plt.ylabel(\"Ventas\")"
      ]
    },
    {
      "cell_type": "markdown",
      "metadata": {
        "id": "JD89-WA15GiB"
      },
      "source": [
        "### Linear Regression Processing with Formulas\n"
      ]
    },
    {
      "cell_type": "code",
      "execution_count": null,
      "metadata": {
        "colab": {
          "base_uri": "https://localhost:8080/"
        },
        "id": "hKnI2-nc5QAo",
        "outputId": "b0819037-cd2d-4837-ba6c-bd536d473d89"
      },
      "outputs": [
        {
          "output_type": "execute_result",
          "data": {
            "text/plain": [
              "array([[  593.93215353, 26105.23413132],\n",
              "       [  743.67042974, 36153.42033908],\n",
              "       [  642.48703846, 30554.0350335 ],\n",
              "       [  590.3948647 , 28936.02121816],\n",
              "       [  481.28931941, 22072.79261758],\n",
              "       [  681.30470176, 35437.35567122],\n",
              "       [  493.82849014, 28402.94775395],\n",
              "       [  902.5957007 , 38207.51050232],\n",
              "       [  967.29648445, 48593.96394546],\n",
              "       [  445.09736694, 19085.00317825],\n",
              "       [  812.55253427, 44111.50668972],\n",
              "       [  576.00542778, 27725.11238896],\n",
              "       [  611.24010498, 31382.59533761],\n",
              "       [  933.03697446, 40839.28015941],\n",
              "       [  163.93245238,  7067.83970305],\n",
              "       [  178.41636973,  8948.85670243],\n",
              "       [  118.1965577 ,  5569.55633966],\n",
              "       [  849.35786099, 50128.16679771],\n",
              "       [  800.34107585, 44276.75898368],\n",
              "       [  883.01093342, 48582.1995089 ],\n",
              "       [  980.75650801, 57145.15571353],\n",
              "       [  819.2427078 , 34001.79684374],\n",
              "       [  515.33142603, 26177.45120059],\n",
              "       [  802.47625866, 41576.55339894],\n",
              "       [  206.44698328, 12112.34425998],\n",
              "       [  675.92891919, 31180.93812696],\n",
              "       [  229.01795867, 10222.43875995],\n",
              "       [  950.20202534, 39839.32567405],\n",
              "       [  569.66348958, 23166.02098816],\n",
              "       [  473.19574599, 27872.86768841],\n",
              "       [  338.10005089, 18240.73430175],\n",
              "       [  796.81032049, 44475.37615473],\n",
              "       [  510.53529899, 23211.95266683],\n",
              "       [  611.59055398, 31827.48702255],\n",
              "       [  116.91082039,  4799.17373123],\n",
              "       [  655.87194737, 32685.31387514],\n",
              "       [  650.88615045, 38854.93218663],\n",
              "       [  655.24059719, 37680.55928576],\n",
              "       [  949.37327066, 44457.12016575],\n",
              "       [  713.63826919, 42362.01665078],\n",
              "       [  423.55711052, 18942.70440197],\n",
              "       [  493.32875842, 28989.73577785],\n",
              "       [  727.86807633, 42848.52245138],\n",
              "       [  154.20292447,  8765.54309254],\n",
              "       [  700.0900439 , 36761.55144604],\n",
              "       [  703.57408266, 40430.52693413],\n",
              "       [  289.34430497, 13225.93185473],\n",
              "       [  216.03366789, 12494.28089013],\n",
              "       [  383.88551583, 20166.52836092],\n",
              "       [  427.33969385, 17247.4666324 ],\n",
              "       [  613.17709338, 28708.40491257],\n",
              "       [  494.74136212, 21309.40763038],\n",
              "       [  989.53645425, 58945.14436572],\n",
              "       [  191.84032967,  9512.21059093],\n",
              "       [  287.98908049, 14320.8442514 ],\n",
              "       [  245.1785661 , 13010.48506593],\n",
              "       [  687.79749292, 32639.7901589 ],\n",
              "       [  327.96244229, 13995.63076491],\n",
              "       [  519.67969557, 29371.54636029],\n",
              "       [  319.9830328 , 13904.97737362],\n",
              "       [  243.07262528, 12059.53220084],\n",
              "       [  199.33762705,  8911.74073729],\n",
              "       [  690.69663052, 28996.14968538],\n",
              "       [  224.36465621, 12906.99546017],\n",
              "       [  276.92412551, 16703.7770718 ],\n",
              "       [  431.85265359, 25667.3340275 ],\n",
              "       [  838.89390686, 48674.55174258],\n",
              "       [  187.39114821, 10508.33992628],\n",
              "       [  854.15041675, 39725.54733777],\n",
              "       [  186.4885671 ,  7715.87386388],\n",
              "       [  978.81351851, 47117.97985744],\n",
              "       [  521.78608148, 23466.30839208],\n",
              "       [  979.08497937, 41683.25675553],\n",
              "       [  644.36096777, 26380.32266818],\n",
              "       [  765.33722146, 41710.13109811],\n",
              "       [  135.26901303,  5375.32831351],\n",
              "       [  354.52626632, 19757.53655824],\n",
              "       [  208.17690509,  8830.9010099 ],\n",
              "       [  366.52617777, 15129.23874513],\n",
              "       [  206.85494706,  8601.11249595],\n",
              "       [  386.18486145, 20588.28500059],\n",
              "       [  472.83669506, 21426.79341958],\n",
              "       [  157.73274671,  7730.90885287],\n",
              "       [  723.22490743, 36999.81127169],\n",
              "       [  609.94130879, 34772.8229844 ],\n",
              "       [  338.85054185, 18565.64481877],\n",
              "       [  570.92324812, 25823.63810439],\n",
              "       [  184.54645968,  7712.67497999],\n",
              "       [  618.351846  , 25537.69308433],\n",
              "       [  936.36657782, 43134.49499881],\n",
              "       [  386.71205721, 17587.8531451 ],\n",
              "       [  700.66934197, 34450.72065968],\n",
              "       [  218.61807616, 11817.95912887],\n",
              "       [  744.69448371, 40083.2454308 ],\n",
              "       [  360.46548365, 16359.17022508],\n",
              "       [  264.87222581, 12675.69045315],\n",
              "       [  627.86164133, 27308.87949004],\n",
              "       [  118.09679157,  6517.41058516],\n",
              "       [  846.0460263 , 34758.20958485],\n",
              "       [  104.22592857,  5623.68875347]])"
            ]
          },
          "metadata": {},
          "execution_count": 6
        }
      ],
      "source": [
        "#  Converting the dataframe having \"Gastos de Publicidad\" and \"Ventas\" to a Numpy array\n",
        "matriz=dataframe.to_numpy()\n",
        "\n",
        "#  Printing the content of the array\n",
        "matriz"
      ]
    },
    {
      "cell_type": "code",
      "execution_count": null,
      "metadata": {
        "id": "QdWvSFRW7-8q",
        "colab": {
          "base_uri": "https://localhost:8080/"
        },
        "outputId": "6068cce8-1800-46b7-ae96-fb08650f2083"
      },
      "outputs": [
        {
          "output_type": "execute_result",
          "data": {
            "text/plain": [
              "100"
            ]
          },
          "metadata": {},
          "execution_count": 7
        }
      ],
      "source": [
        "#  Obtaining the size of the numpy array\n",
        "n = len(matriz)\n",
        "n"
      ]
    },
    {
      "cell_type": "code",
      "source": [
        "#  Calculating sumatory of all elements on first column (x)\n",
        "sumatoria_x = np.sum(matriz[:,0])\n",
        "\n",
        "#  Calculating sumatory of all elements on second column (y)\n",
        "sumatoria_y = np.sum(matriz[:,1])\n",
        "\n",
        "#  Calculating the product of the elements on each row (x * y) and adding all of them\n",
        "sumatoria_producto = np.sum(matriz[:,0] * matriz[:,1])\n",
        "\n",
        "#  Calculating the square product of first element on each row (x ^ 2) and adding all of them\n",
        "sumatoria_cuadrado_x = np.sum(matriz[:,0] * matriz[:,0])\n"
      ],
      "metadata": {
        "id": "nzhr1eg0GBbd"
      },
      "execution_count": null,
      "outputs": []
    },
    {
      "cell_type": "code",
      "execution_count": null,
      "metadata": {
        "colab": {
          "base_uri": "https://localhost:8080/"
        },
        "id": "2z-g-sW-8CVD",
        "outputId": "3fa1f9d6-bdc7-41d0-de94-7ae1fb43b4c3"
      },
      "outputs": [
        {
          "output_type": "stream",
          "name": "stdout",
          "text": [
            "b1 = 50.383568474088676\n",
            "b0 = -286.70853656116407\n"
          ]
        }
      ],
      "source": [
        "#  Calculating the coefficient b1 for the linear regression model\n",
        "b1 = (n*sumatoria_producto - sumatoria_x*sumatoria_y) / (n*sumatoria_cuadrado_x - sumatoria_x*sumatoria_x)\n",
        "\n",
        "#  Calculating the coefficient b0 for the linear regression model\n",
        "b0 = (sumatoria_y - b1*sumatoria_x) / n\n",
        "\n",
        "# Printing coefficient b1\n",
        "print (\"b1 =\", b1)\n",
        "\n",
        "# Printing coefficient b0\n",
        "print (\"b0 =\", b0)\n"
      ]
    },
    {
      "cell_type": "markdown",
      "source": [
        "# Alternate process to Calculate Using Numpy Methods"
      ],
      "metadata": {
        "id": "EmWqOfYYJfRV"
      }
    },
    {
      "cell_type": "code",
      "execution_count": null,
      "metadata": {
        "id": "ttbPeCXv9M5A",
        "colab": {
          "base_uri": "https://localhost:8080/"
        },
        "outputId": "eead11ce-05f7-4fbb-e39a-e3ac9d2be07e"
      },
      "outputs": [
        {
          "output_type": "stream",
          "name": "stdout",
          "text": [
            "b1 = 50.383568474088726\n"
          ]
        }
      ],
      "source": [
        "# Calculating b1 using numpy methods\n",
        "b1 = np.sum((matriz[:,0] - matriz[:,0].mean())*(matriz[:,1] - matriz[:,1].mean())) /np.sum((matriz[:,0] - matriz[:,0].mean())**2)\n",
        "\n",
        "# Printing coefficient b1\n",
        "print (\"b1 =\", b1)"
      ]
    },
    {
      "cell_type": "code",
      "execution_count": null,
      "metadata": {
        "colab": {
          "base_uri": "https://localhost:8080/"
        },
        "id": "wUkAthYs-L3A",
        "outputId": "e3a667bd-ddcb-4258-ed0f-4acdf483daa8"
      },
      "outputs": [
        {
          "output_type": "stream",
          "name": "stdout",
          "text": [
            "b0 = -286.70853656118925\n"
          ]
        }
      ],
      "source": [
        "# Calculating b0 using numpy methods\n",
        "b0 = np.mean(matriz[:,1]) - b1*np.mean(matriz[:,0])\n",
        "\n",
        "# Printing coefficient b0\n",
        "print (\"b0 =\", b0)\n"
      ]
    },
    {
      "cell_type": "markdown",
      "source": [
        "#  Calculating a predicted output based on a given input"
      ],
      "metadata": {
        "id": "6_KggAP1JoKc"
      }
    },
    {
      "cell_type": "code",
      "execution_count": null,
      "metadata": {
        "colab": {
          "base_uri": "https://localhost:8080/"
        },
        "id": "s6rF0K4WYdpe",
        "outputId": "a143c96d-661c-406e-a2f3-a86d6ebadfb5"
      },
      "outputs": [
        {
          "output_type": "execute_result",
          "data": {
            "text/plain": [
              "9286.169473515669"
            ]
          },
          "metadata": {},
          "execution_count": 12
        }
      ],
      "source": [
        "#  Assigning a value to the desired input\n",
        "x_pred = 190\n",
        "\n",
        "#  Calcultating the predicted output\n",
        "y_pred = b0 + b1 * x_pred\n",
        "y_pred"
      ]
    },
    {
      "cell_type": "markdown",
      "metadata": {
        "id": "wSiUMciN9k64"
      },
      "source": [
        "#  Using Sklearn Packages\n",
        "\n"
      ]
    },
    {
      "cell_type": "code",
      "execution_count": null,
      "metadata": {
        "id": "4WI63KDF-ddP"
      },
      "outputs": [],
      "source": [
        "# Importing LinearRegression from sklearn.linear_model\n",
        "from sklearn.linear_model import LinearRegression\n",
        "\n",
        "# Importing mean_absolute_error from sklearn.metrics\n",
        "from sklearn.metrics import mean_absolute_error"
      ]
    },
    {
      "cell_type": "code",
      "execution_count": null,
      "metadata": {
        "id": "2ubfB31n-5_3"
      },
      "outputs": [],
      "source": [
        "#  Defining a classifier clf of type LinearRegression\n",
        "clf=LinearRegression()"
      ]
    },
    {
      "cell_type": "code",
      "execution_count": null,
      "metadata": {
        "colab": {
          "base_uri": "https://localhost:8080/",
          "height": 75
        },
        "id": "oLmk8x3H_B7M",
        "outputId": "51d6ae20-0319-4eb3-95d9-5d83d669a2a3"
      },
      "outputs": [
        {
          "output_type": "execute_result",
          "data": {
            "text/plain": [
              "LinearRegression()"
            ],
            "text/html": [
              "<style>#sk-container-id-1 {color: black;background-color: white;}#sk-container-id-1 pre{padding: 0;}#sk-container-id-1 div.sk-toggleable {background-color: white;}#sk-container-id-1 label.sk-toggleable__label {cursor: pointer;display: block;width: 100%;margin-bottom: 0;padding: 0.3em;box-sizing: border-box;text-align: center;}#sk-container-id-1 label.sk-toggleable__label-arrow:before {content: \"▸\";float: left;margin-right: 0.25em;color: #696969;}#sk-container-id-1 label.sk-toggleable__label-arrow:hover:before {color: black;}#sk-container-id-1 div.sk-estimator:hover label.sk-toggleable__label-arrow:before {color: black;}#sk-container-id-1 div.sk-toggleable__content {max-height: 0;max-width: 0;overflow: hidden;text-align: left;background-color: #f0f8ff;}#sk-container-id-1 div.sk-toggleable__content pre {margin: 0.2em;color: black;border-radius: 0.25em;background-color: #f0f8ff;}#sk-container-id-1 input.sk-toggleable__control:checked~div.sk-toggleable__content {max-height: 200px;max-width: 100%;overflow: auto;}#sk-container-id-1 input.sk-toggleable__control:checked~label.sk-toggleable__label-arrow:before {content: \"▾\";}#sk-container-id-1 div.sk-estimator input.sk-toggleable__control:checked~label.sk-toggleable__label {background-color: #d4ebff;}#sk-container-id-1 div.sk-label input.sk-toggleable__control:checked~label.sk-toggleable__label {background-color: #d4ebff;}#sk-container-id-1 input.sk-hidden--visually {border: 0;clip: rect(1px 1px 1px 1px);clip: rect(1px, 1px, 1px, 1px);height: 1px;margin: -1px;overflow: hidden;padding: 0;position: absolute;width: 1px;}#sk-container-id-1 div.sk-estimator {font-family: monospace;background-color: #f0f8ff;border: 1px dotted black;border-radius: 0.25em;box-sizing: border-box;margin-bottom: 0.5em;}#sk-container-id-1 div.sk-estimator:hover {background-color: #d4ebff;}#sk-container-id-1 div.sk-parallel-item::after {content: \"\";width: 100%;border-bottom: 1px solid gray;flex-grow: 1;}#sk-container-id-1 div.sk-label:hover label.sk-toggleable__label {background-color: #d4ebff;}#sk-container-id-1 div.sk-serial::before {content: \"\";position: absolute;border-left: 1px solid gray;box-sizing: border-box;top: 0;bottom: 0;left: 50%;z-index: 0;}#sk-container-id-1 div.sk-serial {display: flex;flex-direction: column;align-items: center;background-color: white;padding-right: 0.2em;padding-left: 0.2em;position: relative;}#sk-container-id-1 div.sk-item {position: relative;z-index: 1;}#sk-container-id-1 div.sk-parallel {display: flex;align-items: stretch;justify-content: center;background-color: white;position: relative;}#sk-container-id-1 div.sk-item::before, #sk-container-id-1 div.sk-parallel-item::before {content: \"\";position: absolute;border-left: 1px solid gray;box-sizing: border-box;top: 0;bottom: 0;left: 50%;z-index: -1;}#sk-container-id-1 div.sk-parallel-item {display: flex;flex-direction: column;z-index: 1;position: relative;background-color: white;}#sk-container-id-1 div.sk-parallel-item:first-child::after {align-self: flex-end;width: 50%;}#sk-container-id-1 div.sk-parallel-item:last-child::after {align-self: flex-start;width: 50%;}#sk-container-id-1 div.sk-parallel-item:only-child::after {width: 0;}#sk-container-id-1 div.sk-dashed-wrapped {border: 1px dashed gray;margin: 0 0.4em 0.5em 0.4em;box-sizing: border-box;padding-bottom: 0.4em;background-color: white;}#sk-container-id-1 div.sk-label label {font-family: monospace;font-weight: bold;display: inline-block;line-height: 1.2em;}#sk-container-id-1 div.sk-label-container {text-align: center;}#sk-container-id-1 div.sk-container {/* jupyter's `normalize.less` sets `[hidden] { display: none; }` but bootstrap.min.css set `[hidden] { display: none !important; }` so we also need the `!important` here to be able to override the default hidden behavior on the sphinx rendered scikit-learn.org. See: https://github.com/scikit-learn/scikit-learn/issues/21755 */display: inline-block !important;position: relative;}#sk-container-id-1 div.sk-text-repr-fallback {display: none;}</style><div id=\"sk-container-id-1\" class=\"sk-top-container\"><div class=\"sk-text-repr-fallback\"><pre>LinearRegression()</pre><b>In a Jupyter environment, please rerun this cell to show the HTML representation or trust the notebook. <br />On GitHub, the HTML representation is unable to render, please try loading this page with nbviewer.org.</b></div><div class=\"sk-container\" hidden><div class=\"sk-item\"><div class=\"sk-estimator sk-toggleable\"><input class=\"sk-toggleable__control sk-hidden--visually\" id=\"sk-estimator-id-1\" type=\"checkbox\" checked><label for=\"sk-estimator-id-1\" class=\"sk-toggleable__label sk-toggleable__label-arrow\">LinearRegression</label><div class=\"sk-toggleable__content\"><pre>LinearRegression()</pre></div></div></div></div></div>"
            ]
          },
          "metadata": {},
          "execution_count": 15
        }
      ],
      "source": [
        "#  Using training files x and y to adjust the model\n",
        "clf.fit(x,y)\n"
      ]
    },
    {
      "cell_type": "code",
      "execution_count": null,
      "metadata": {
        "colab": {
          "base_uri": "https://localhost:8080/"
        },
        "id": "P0GUjrJ9_TUY",
        "outputId": "78d61286-0cbe-4c8c-9eea-5522a0b4d6ac"
      },
      "outputs": [
        {
          "output_type": "stream",
          "name": "stderr",
          "text": [
            "/usr/local/lib/python3.10/dist-packages/sklearn/base.py:439: UserWarning: X does not have valid feature names, but LinearRegression was fitted with feature names\n",
            "  warnings.warn(\n"
          ]
        },
        {
          "output_type": "execute_result",
          "data": {
            "text/plain": [
              "array([[9286.16947352]])"
            ]
          },
          "metadata": {},
          "execution_count": 16
        }
      ],
      "source": [
        "#  Predicting the output value y when the input value x is 190\n",
        "clf.predict([[190]])"
      ]
    },
    {
      "cell_type": "code",
      "execution_count": null,
      "metadata": {
        "colab": {
          "base_uri": "https://localhost:8080/"
        },
        "id": "HAFXEpVg_OgX",
        "outputId": "a7e9aca0-e4e2-4239-81cd-cdc3df1aa596"
      },
      "outputs": [
        {
          "output_type": "execute_result",
          "data": {
            "text/plain": [
              "array([[50.38356847]])"
            ]
          },
          "metadata": {},
          "execution_count": 17
        }
      ],
      "source": [
        "#  Displaying the coefficient b1 of the model\n",
        "clf.coef_"
      ]
    },
    {
      "cell_type": "code",
      "execution_count": null,
      "metadata": {
        "id": "OCUasEuCZ7uC",
        "colab": {
          "base_uri": "https://localhost:8080/"
        },
        "outputId": "a14964bd-68ae-4e92-81d5-748f3fa64ca9"
      },
      "outputs": [
        {
          "output_type": "execute_result",
          "data": {
            "text/plain": [
              "array([[29637.71279001],\n",
              "       [37182.06148216],\n",
              "       [32084.08115963],\n",
              "       [29459.49155566],\n",
              "       [23962.36484353],\n",
              "       [34039.85355628],\n",
              "       [24594.13301068],\n",
              "       [45189.28375427],\n",
              "       [48449.14012252],\n",
              "       [22138.88512846],\n",
              "       [40652.58771285],\n",
              "       [28734.50037532],\n",
              "       [30509.74914704],\n",
              "       [46723.02375517],\n",
              "       [ 7972.79340296],\n",
              "       [ 8702.5448447 ],\n",
              "       [ 5668.45582153],\n",
              "       [42506.97141179],\n",
              "       [40037.3308614 ],\n",
              "       [44202.53329088],\n",
              "       [49127.30414114],\n",
              "       [40989.66252853],\n",
              "       [25677.52765355],\n",
              "       [40144.90899036],\n",
              "       [10114.8271819 ],\n",
              "       [33769.00244731],\n",
              "       [11252.03346579],\n",
              "       [47587.86027161],\n",
              "       [28414.97089763],\n",
              "       [23554.58173325],\n",
              "       [16747.97852876],\n",
              "       [39859.43880675],\n",
              "       [25435.88165879],\n",
              "       [30527.40601809],\n",
              "       [ 5603.67578806],\n",
              "       [32758.4606339 ],\n",
              "       [32507.25839348],\n",
              "       [32726.65095883],\n",
              "       [47546.10465337],\n",
              "       [35668.93406506],\n",
              "       [21053.61014383],\n",
              "       [24568.9547435 ],\n",
              "       [36385.88252754],\n",
              "       [ 7482.58506719],\n",
              "       [34986.32612836],\n",
              "       [35161.86443355],\n",
              "       [14291.4900653 ],\n",
              "       [10597.83856225],\n",
              "       [19054.81363656],\n",
              "       [21244.19019014],\n",
              "       [30607.3415343 ],\n",
              "       [24640.12675858],\n",
              "       [49569.66916392],\n",
              "       [ 9378.89184962],\n",
              "       [14223.20901986],\n",
              "       [12066.26253674],\n",
              "       [34366.98354422],\n",
              "       [16237.20963127],\n",
              "       [25896.60898982],\n",
              "       [15835.17850714],\n",
              "       [11960.15772346],\n",
              "       [ 9756.63244527],\n",
              "       [34513.052442  ],\n",
              "       [11017.58348295],\n",
              "       [13665.7171033 ],\n",
              "       [21471.56920655],\n",
              "       [41979.76006237],\n",
              "       [ 9154.7262109 ],\n",
              "       [42748.43747288],\n",
              "       [ 9109.25095379],\n",
              "       [49029.40939675],\n",
              "       [26002.73622866],\n",
              "       [49043.08656354],\n",
              "       [32178.49640514],\n",
              "       [38273.71176656],\n",
              "       [ 6528.6270438 ],\n",
              "       [17575.58987837],\n",
              "       [10201.98681586],\n",
              "       [18180.18823866],\n",
              "       [10135.38185278],\n",
              "       [19170.66287419],\n",
              "       [23536.49146622],\n",
              "       [ 7660.4301081 ],\n",
              "       [36151.94310926],\n",
              "       [30444.31115983],\n",
              "       [16785.79094099],\n",
              "       [28478.44202854],\n",
              "       [ 9011.40065151],\n",
              "       [30868.06403749],\n",
              "       [46890.78105381],\n",
              "       [19197.22487744],\n",
              "       [35015.51323214],\n",
              "       [10728.05027352],\n",
              "       [37233.65697555],\n",
              "       [17874.82884159],\n",
              "       [13058.49938924],\n",
              "       [31347.2014616 ],\n",
              "       [ 5663.42924801],\n",
              "       [42340.10936154],\n",
              "       [ 4964.56567249]])"
            ]
          },
          "metadata": {},
          "execution_count": 20
        }
      ],
      "source": [
        "#  Using the model to predict the outputs based on input values from x dataset\n",
        "predicciones=clf.predict(x)\n",
        "\n",
        "#  Displaying the predicted values\n",
        "predicciones"
      ]
    },
    {
      "cell_type": "code",
      "execution_count": null,
      "metadata": {
        "colab": {
          "base_uri": "https://localhost:8080/",
          "height": 472
        },
        "id": "xyl3eNleaK4a",
        "outputId": "97b13827-1696-41db-a3ee-a79520bbf058"
      },
      "outputs": [
        {
          "output_type": "display_data",
          "data": {
            "text/plain": [
              "<Figure size 640x480 with 1 Axes>"
            ],
            "image/png": "[encoded data removed]"
          },
          "metadata": {}
        }
      ],
      "source": [
        "#  Plotting the Results\n",
        "plt.plot(x, y)\n",
        "plt.plot(x, predicciones)\n",
        "plt.title(\"Regresion Lineal Simple\")\n",
        "plt.xlabel(\"Reduccion de solidos\")\n",
        "plt.ylabel(\"Reduccion de la demanda de oxigeno\")\n",
        "plt.legend([\"y\", \"predicciones\"])\n",
        "plt.grid()\n",
        "plt.show()\n"
      ]
    }
  ],
  "metadata": {
    "colab": {
      "provenance": [],
      "include_colab_link": true
    },
    "kernelspec": {
      "display_name": "Python 3",
      "name": "python3"
    },
    "language_info": {
      "name": "python"
    }
  },
  "nbformat": 4,
  "nbformat_minor": 0
}